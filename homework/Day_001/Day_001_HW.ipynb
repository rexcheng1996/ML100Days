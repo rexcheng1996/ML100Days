{
 "cells": [
  {
   "cell_type": "markdown",
   "metadata": {},
   "source": [
    "## 練習時間\n",
    "#### 請寫一個函式用來計算 Mean Square Error\n",
    "$ MSE = \\frac{1}{n}\\sum_{i=1}^{n}{(Y_i - \\hat{Y}_i)^2} $\n",
    "\n",
    "### Hint: [如何取平方](https://googoodesign.gitbooks.io/-ezpython/unit-1.html)"
   ]
  },
  {
   "cell_type": "markdown",
   "metadata": {},
   "source": [
    "# [作業目標]\n",
    "- 仿造範例的MAE函數, 自己寫一個MSE函數(參考上面公式)"
   ]
  },
  {
   "cell_type": "markdown",
   "metadata": {},
   "source": [
    "# [作業重點]\n",
    "- 注意程式的縮排\n",
    "- 是否能將數學公式, 轉換為 Python 的函式組合? (In[2], Out[2])"
   ]
  },
  {
   "cell_type": "code",
   "execution_count": 1,
   "metadata": {
    "collapsed": true
   },
   "outputs": [],
   "source": [
    "# 載入基礎套件與代稱\n",
    "import numpy as np\n",
    "import matplotlib.pyplot as plt"
   ]
  },
  {
   "cell_type": "code",
   "execution_count": 3,
   "metadata": {
    "collapsed": true
   },
   "outputs": [],
   "source": [
    "def mean_absolute_error(y, yp):\n",
    "    \"\"\"\n",
    "    計算 MAE\n",
    "    Args:\n",
    "        - y: 實際值\n",
    "        - yp: 預測值\n",
    "    Return:\n",
    "        - mae: MAE\n",
    "    \"\"\"\n",
    "    mae = MAE = sum(abs(y - yp)) / len(y)\n",
    "    return mae\n",
    "\n",
    "# 定義 mean_squared_error 這個函數, 計算並傳回 MSE\n",
    "def mean_squared_error(y, yp):\n",
    "    \"\"\"\n",
    "    請完成這個 Function 後往下執行\n",
    "\n",
    "    計算 MSE\n",
    "    Args:\n",
    "        - y: 實際值\n",
    "        - yp: 預測值\n",
    "    Return:\n",
    "        - mse: MSE\n",
    "    \"\"\"\n",
    "    mse = MSE = sum((y - yp)**2) / len(y)\n",
    "    return mse"
   ]
  },
  {
   "cell_type": "code",
   "execution_count": 4,
   "metadata": {
    "collapsed": true
   },
   "outputs": [
    {
     "data": {
      "image/png": "[encoded data removed]",
      "text/plain": [
       "<Figure size 432x288 with 1 Axes>"
      ]
     },
     "metadata": {
      "needs_background": "light"
     },
     "output_type": "display_data"
    }
   ],
   "source": [
    "# 與範例相同, 不另外解說\n",
    "w = 3\n",
    "b = 0.5\n",
    "x_lin = np.linspace(0, 100, 101)\n",
    "y = (x_lin + np.random.randn(101) * 5) * w + b\n",
    "\n",
    "plt.plot(x_lin, y, 'b.', label = 'data points')\n",
    "plt.title(\"Assume we have data points\")\n",
    "plt.legend(loc = 2)\n",
    "plt.show()"
   ]
  },
  {
   "cell_type": "code",
   "execution_count": 5,
   "metadata": {
    "collapsed": true
   },
   "outputs": [
    {
     "data": {
      "image/png": "[encoded data removed]",
      "text/plain": [
       "<Figure size 432x288 with 1 Axes>"
      ]
     },
     "metadata": {
      "needs_background": "light"
     },
     "output_type": "display_data"
    }
   ],
   "source": [
    "# 與範例相同, 不另外解說\n",
    "y_hat = x_lin * w + b\n",
    "plt.plot(x_lin, y, 'b.', label = 'data')\n",
    "plt.plot(x_lin, y_hat, 'r-', label = 'prediction')\n",
    "plt.title(\"Assume we have data points (And the prediction)\")\n",
    "plt.legend(loc = 2)\n",
    "plt.show()"
   ]
  },
  {
   "cell_type": "code",
   "execution_count": 6,
   "metadata": {
    "collapsed": true
   },
   "outputs": [
    {
     "name": "stdout",
     "output_type": "stream",
     "text": [
      "The Mean squared error is 220.546\n",
      "The Mean absolute error is 11.676\n"
     ]
    }
   ],
   "source": [
    "# 執行 Function, 確認有沒有正常執行\n",
    "MSE = mean_squared_error(y, y_hat)\n",
    "MAE = mean_absolute_error(y, y_hat)\n",
    "print(\"The Mean squared error is %.3f\" % (MSE))\n",
    "print(\"The Mean absolute error is %.3f\" % (MAE))"
   ]
  },
  {
   "cell_type": "markdown",
   "metadata": {},
   "source": [
    "# [作業2]\n",
    "\n",
    "請上 Kaggle, 在 Competitions 或 Dataset 中找一組競賽或資料並寫下：\n",
    "\n",
    "1. 你選的這組資料為何重要\n",
    "\n",
    "2. 資料從何而來 (tips: 譬如提供者是誰、以什麼方式蒐集)\n",
    "\n",
    "3. 蒐集而來的資料型態為何\n",
    "\n",
    "4. 這組資料想解決的問題如何評估\n",
    "\n",
    "# [作業3]\n",
    "\n",
    "想像你經營一個自由載客車隊，你希望能透過數據分析以提升業績，請你思考並描述你如何規劃整體的分析/解決方案：\n",
    "\n",
    "1. 核心問題為何 (tips：如何定義 「提升業績 & 你的假設」)\n",
    "\n",
    "2. 資料從何而來 (tips：哪些資料可能會對你想問的問題產生影響 & 資料如何蒐集)\n",
    "\n",
    "3. 蒐集而來的資料型態為何\n",
    "\n",
    "4. 你要回答的問題，其如何評估 (tips：你的假設如何驗證)"
   ]
  },
  {
   "cell_type": "markdown",
   "metadata": {},
   "source": [
    "### 作業2 \n",
    "1. 你選的這組資料為何重要\n",
    "\n",
    "    A：可以利用不同的軸承震動訊號，作為故障診斷方法開發用途。\n",
    "\n",
    "2. 資料從何而來 (tips: 譬如提供者是誰、以什麼方式蒐集)\n",
    "\n",
    "    A：資料來源：[Engine Acoustic Emissions](https://www.kaggle.com/datasets/julienjta/engine-acoustic-emissions)是有關軸承震動資料。提供者為julienjta。\n",
    "\n",
    "3. 蒐集而來的資料型態為何\n",
    "\n",
    "    A：是由matlab軟體產生的.mat檔案，由loadmat.io讀出的檔案看來有7項的key值，'__header__', '__version__', '__globals__', 'normal', 'inner', 'roller', 'outer'，前面三項創建檔案的相關訊息以及版本，後四項則是各120000筆的數值資料組成的陣列。\n",
    "\n",
    "4. 這組資料想解決的問題如何評估\n",
    "\n",
    "    A：這組資料會用來分辨不同種類故障發生時的聲音來辨別當故障發生時的他的種類為何，因此可以做到像是預測性的維護，適時的更換零件，避免故障或者是可能故障的情況，減少成本及增加利潤，可以利用CNN或是特徵提取等方法進行實現。(作者兩種方法都做了而且還把兩者做結合)"
   ]
  },
  {
   "cell_type": "code",
   "execution_count": null,
   "metadata": {},
   "outputs": [],
   "source": [
    "from scipy import io\n",
    "import pprint\n",
    "\n",
    "file = \"C:/Users/User/Documents/GitHub/ML100Days/homework/Day_001\"\n",
    "data = io.loadmat(file)\n",
    "print(type(data))\n",
    "print(data.keys())\n",
    "pprint.pprint(data)\n",
    "print(data['normal'].shape)\n",
    "print(data['inner'].shape)\n",
    "print(data['roller'].shape)\n",
    "print(data['outer'].shape)"
   ]
  },
  {
   "cell_type": "markdown",
   "metadata": {},
   "source": [
    "## 作業3\n",
    "想像你經營一個自由載客車隊，你希望能透過數據分析以提升業績，請你思考並描述你如何規劃整體的分析/解決方案：\n",
    "\n",
    "1. 核心問題為何 (tips：如何定義 「提升業績 & 你的假設」)\n",
    "\n",
    "    A：提升業績有很多種方法，最直觀的想法就是提升載客率，藉由這個問題再去延伸，影響到載客率的原因為何？由外而內，由外的方面，會不會是鬧區？或是哪些地方有舉辦期間性的活動？是否為交通的要道？等等。由內的方面，司機的待人態度如何？開車的技術如何？或是車內的環境是否乾淨舒適？等等。假設之後想從由外的方面著手，在有舉辦活動的地方附近設點可能可以讓業績增加。\n",
    "\n",
    "2. 資料從何而來 (tips：哪些資料可能會對你想問的問題產生影響 & 資料如何蒐集)\n",
    "\n",
    "    A：舉辦的活動的舉辦者都希望越多人潮來是越好的，要讓人知道有活動舉行必定需要宣傳，常見的可能FB、IG的貼文、網頁上的廣告、youtube的宣傳等等，這些宣傳訊息都會告訴你舉辦地點在何處，或是告訴你使用哪些交通工具該如何搭乘等等，這邊我們關注於不是自行開車騎車去的相關資訊，搭火車的、搭公車的、坐計程車的，統計上下站的時間點，以及上下站的地點為哪些地方。\n",
    "\n",
    "3. 蒐集而來的資料型態為何\n",
    "\n",
    "    A：蒐集來的資料大多是字串，以及時間點資料。    \n",
    "\n",
    "4. 你要回答的問題，其如何評估 (tips：你的假設如何驗證)\n",
    "\n",
    "    A：可能把現有的一小部分車隊成員分成兩個部分，一個實驗組一個對照組，實驗組就到用活動進行統計的站點進行接客，對照組就如同往常一般載客，可能在一周、一個月、或一個季度的時候來查看績效，看實驗組的車隊成員的業績是否有明顯增加，有明顯增加就代表說特定時間到特定的地點載客可以當作是增加業績的一種方式\n"
   ]
  }
 ],
 "metadata": {
  "anaconda-cloud": {},
  "kernelspec": {
   "display_name": "Python 3.8.12 ('ML')",
   "language": "python",
   "name": "python3"
  },
  "language_info": {
   "codemirror_mode": {
    "name": "ipython",
    "version": 3
   },
   "file_extension": ".py",
   "mimetype": "text/x-python",
   "name": "python",
   "nbconvert_exporter": "python",
   "pygments_lexer": "ipython3",
   "version": "3.8.12"
  },
  "vscode": {
   "interpreter": {
    "hash": "f383826fdc8333ec187623b360f2bf06d0a39c6f212e1c3c3029be4dd2cc4a75"
   }
  }
 },
 "nbformat": 4,
 "nbformat_minor": 1
}
